{
 "cells": [
  {
   "cell_type": "markdown",
   "metadata": {
    "pycharm": {
     "name": "#%% md\n"
    }
   },
   "source": [
    "# **Sentiment analysis and sentiment classification**\n",
    "### By Roni Nakash.\n"
   ]
  },
  {
   "cell_type": "code",
   "execution_count": null,
   "outputs": [],
   "source": [],
   "metadata": {
    "collapsed": false,
    "pycharm": {
     "name": "#%%\n"
    }
   }
  },
  {
   "cell_type": "markdown",
   "metadata": {
    "pycharm": {
     "name": "#%% md\n"
    }
   },
   "source": [
    "**Project Goal:** train and evaluate a sentiment classifier for Amazon products reviews\n",
    "\n",
    "**Project workflow:**\n",
    "\n",
    "**Section 1:** In this section, I will explore the dataset at the basic level.\n",
    "- Explore and analyze the dataset\n",
    "- Check for missing values\n",
    "- Create new features\n",
    "- Extract the target variable Y (rating)\n",
    "\n",
    "**Section 2:** In this section, I will perform basic Exploratory Data Analysis (EDA) in order to gain a better understanding of the data set.\n",
    "- Explore the numbers of reviews by date\n",
    "- Explore the distributions of the number of words & punctuations\n",
    "- Explore Y labels distributions and handle imbalanced data\n",
    "\n",
    "**Section 3:** in this section, I perform preprocessing methods in order to preparing the text for the classification models.\n",
    "As part of this section, I will create a corpus manually - and represent the text in frequency form.\n",
    "I will perform these processes simultaneously for:\n",
    "-  RATING as a dataset\n",
    "-  DESCRIPTION1 as a dataset\n",
    "-  DESCRIPTION2 as a dataset\n",
    "-  A combination of all three together\n",
    "\n",
    "For each sentence in the text, I will:\n",
    "- Perform preprocessing (tokenization lemmatization, stopwords and more)\n",
    "- Build corpora\n",
    "- Build datasets in frequency representations\n",
    "\n",
    "**Section 4:** I will create & train three classifier models (Naive Bayes, Logistic Regression, Bernoulli Naive Bayes).\n",
    "finally, I will produce predictions for each subset and select the best data set and the model that will provide the best classification performance.\n",
    "\n",
    "**Section 5:** Throughout this section, I will explore different text representation methods and choose the most effective one.\n",
    "\n",
    "**Section 6:** Further discussion and explanations\n"
   ]
  },
  {
   "cell_type": "markdown",
   "metadata": {
    "pycharm": {
     "name": "#%% md\n"
    }
   },
   "source": []
  },
  {
   "cell_type": "code",
   "execution_count": 1,
   "metadata": {
    "pycharm": {
     "name": "#%%\n"
    }
   },
   "outputs": [],
   "source": [
    "import numpy as np\n",
    "import pandas as pd\n",
    "import seaborn as sns\n",
    "import matplotlib.pyplot as plt\n",
    "import plotly.graph_objs as go\n",
    "plt.style.use('fivethirtyeight') ## fivethirtyeight / dark_background  / bmh / ggplot / seaborn-deep / seaborn-pastel\n",
    "\n",
    "## sklearn\n",
    "from sklearn.feature_extraction.text import TfidfTransformer\n",
    "from sklearn.feature_extraction.text import CountVectorizer\n",
    "#from sklearn.cross_validation import train_test_split\n",
    "from sklearn.model_selection import train_test_split\n",
    "from sklearn.metrics import confusion_matrix\n",
    "from sklearn import metrics\n",
    "from sklearn.metrics import roc_curve, auc\n",
    "from sklearn.feature_extraction.text import TfidfVectorizer\n",
    "from sklearn.preprocessing import LabelBinarizer\n",
    "from sklearn.linear_model import LogisticRegression, SGDClassifier\n",
    "from sklearn.naive_bayes import MultinomialNB\n",
    "from sklearn.svm import SVC\n",
    "from sklearn.metrics import classification_report, confusion_matrix, accuracy_score\n",
    "from sklearn.model_selection import train_test_split\n",
    "from sklearn import linear_model\n",
    "from sklearn.naive_bayes import MultinomialNB\n",
    "from sklearn.naive_bayes import BernoulliNB\n",
    "import itertools\n",
    "from sklearn.utils import shuffle\n",
    "\n",
    "## nltk\n",
    "import nltk\n",
    "from nltk.corpus import stopwords\n",
    "from nltk.stem.porter import PorterStemmer\n",
    "from wordcloud import WordCloud, STOPWORDS\n",
    "from nltk.stem import WordNetLemmatizer\n",
    "from nltk.tokenize import word_tokenize, sent_tokenize\n",
    "from nltk.tokenize.toktok import ToktokTokenizer\n",
    "from nltk.stem import LancasterStemmer, WordNetLemmatizer\n",
    "from nltk.stem.porter import*\n",
    "from nltk.stem.snowball import SnowballStemmer\n",
    "from nltk.stem import WordNetLemmatizer\n",
    "\n",
    "##  imblearn\n",
    "from imblearn.under_sampling import RandomUnderSampler\n",
    "from bs4 import BeautifulSoup\n",
    "import re, string, unicodedata\n",
    "from textblob import TextBlob\n",
    "from textblob import Word\n",
    "from collections import Counter\n",
    "\n",
    "#\n",
    "import spacy\n",
    "\n",
    "import warnings\n",
    "warnings.filterwarnings('ignore')"
   ]
  },
  {
   "cell_type": "code",
   "execution_count": 2,
   "metadata": {
    "pycharm": {
     "name": "#%%\n"
    }
   },
   "outputs": [
    {
     "name": "stderr",
     "output_type": "stream",
     "text": [
      "[nltk_data] Downloading package wordnet to /Users/roni/nltk_data...\n",
      "[nltk_data]   Package wordnet is already up-to-date!\n",
      "[nltk_data] Downloading package punkt to /Users/roni/nltk_data...\n",
      "[nltk_data]   Package punkt is already up-to-date!\n"
     ]
    }
   ],
   "source": [
    "stemmer = PorterStemmer()\n",
    "nlp = spacy.load('en_core_web_sm')\n",
    "p_stemmer = PorterStemmer()\n",
    "s_stemmer=SnowballStemmer(language='english')\n",
    "nltk.download('wordnet')\n",
    "stopwords = set(stopwords.words(\"english\"))\n",
    "nltk.download(\"punkt\")\n",
    "wordnet_lemmatizer = WordNetLemmatizer()\n",
    "tokenizer=ToktokTokenizer()\n",
    "stopword_list=nltk.corpus.stopwords.words('english')"
   ]
  },
  {
   "cell_type": "markdown",
   "metadata": {
    "pycharm": {
     "name": "#%% md\n"
    }
   },
   "source": [
    "## Section 1: Exploring the dataset at the basic level\n",
    "\n",
    "### Reading and analyzing the dataset"
   ]
  },
  {
   "cell_type": "code",
   "execution_count": 4,
   "metadata": {
    "pycharm": {
     "name": "#%%\n"
    }
   },
   "outputs": [
    {
     "name": "stdout",
     "output_type": "stream",
     "text": [
      "(10000, 6)\n"
     ]
    },
    {
     "data": {
      "text/html": [
       "<div>\n",
       "<style scoped>\n",
       "    .dataframe tbody tr th:only-of-type {\n",
       "        vertical-align: middle;\n",
       "    }\n",
       "\n",
       "    .dataframe tbody tr th {\n",
       "        vertical-align: top;\n",
       "    }\n",
       "\n",
       "    .dataframe thead th {\n",
       "        text-align: right;\n",
       "    }\n",
       "</style>\n",
       "<table border=\"1\" class=\"dataframe\">\n",
       "  <thead>\n",
       "    <tr style=\"text-align: right;\">\n",
       "      <th></th>\n",
       "      <th>DATE</th>\n",
       "      <th>RATING</th>\n",
       "      <th>REVIEW_TITLE</th>\n",
       "      <th>DESCRIPTION1</th>\n",
       "      <th>DESCRIPTION2</th>\n",
       "      <th>LINK</th>\n",
       "    </tr>\n",
       "  </thead>\n",
       "  <tbody>\n",
       "    <tr>\n",
       "      <th>0</th>\n",
       "      <td>2020-02-26 0:00:00</td>\n",
       "      <td>4</td>\n",
       "      <td>Really sweet, more coconut than almond flavor</td>\n",
       "      <td>I got this for my two oldest girls who are ath...</td>\n",
       "      <td>They felt the flavor balance was off, that it ...</td>\n",
       "      <td>https://www.amazon.com/gp/customer-reviews/RZY...</td>\n",
       "    </tr>\n",
       "    <tr>\n",
       "      <th>1</th>\n",
       "      <td>2020-08-14 0:00:00</td>\n",
       "      <td>5</td>\n",
       "      <td>kids loved them</td>\n",
       "      <td>bought a few for my kids. I didn't taste them ...</td>\n",
       "      <td>I didn't taste them but they said they were good.</td>\n",
       "      <td>https://www.amazon.com/gp/customer-reviews/R21...</td>\n",
       "    </tr>\n",
       "    <tr>\n",
       "      <th>2</th>\n",
       "      <td>2020-04-27 0:00:00</td>\n",
       "      <td>5</td>\n",
       "      <td>Absolutely the best.</td>\n",
       "      <td>The is the best buckwheat flour I have ever ha...</td>\n",
       "      <td>The is the best buckwheat flour I have ever had.</td>\n",
       "      <td>https://www.amazon.com/gp/customer-reviews/R1X...</td>\n",
       "    </tr>\n",
       "    <tr>\n",
       "      <th>3</th>\n",
       "      <td>2020-02-10 0:00:00</td>\n",
       "      <td>5</td>\n",
       "      <td>Scrumptious at Tea Time</td>\n",
       "      <td>Danger: these rolled cookies are so delicious!...</td>\n",
       "      <td>Scrumptious at Tea Time.</td>\n",
       "      <td>https://www.amazon.com/gp/customer-reviews/RZU...</td>\n",
       "    </tr>\n",
       "    <tr>\n",
       "      <th>4</th>\n",
       "      <td>2020-12-20 0:00:00</td>\n",
       "      <td>5</td>\n",
       "      <td>DELICIOUS and ADDICCTIVE</td>\n",
       "      <td>I could not stop eating these. Love both the p...</td>\n",
       "      <td>Love both the pancake and butter and salt flav...</td>\n",
       "      <td>https://www.amazon.com/gp/customer-reviews/R10...</td>\n",
       "    </tr>\n",
       "    <tr>\n",
       "      <th>5</th>\n",
       "      <td>2021-05-07 0:00:00</td>\n",
       "      <td>5</td>\n",
       "      <td>Was the taste authentic</td>\n",
       "      <td>I loved it! Enjoyed my coffee this morning. I ...</td>\n",
       "      <td>I was hesitant it wouldn't be the right one, b...</td>\n",
       "      <td>https://www.amazon.com/gp/customer-reviews/R29...</td>\n",
       "    </tr>\n",
       "    <tr>\n",
       "      <th>6</th>\n",
       "      <td>2020-09-02 0:00:00</td>\n",
       "      <td>5</td>\n",
       "      <td>Tastes like real meat imo</td>\n",
       "      <td>I was suspicious because I'm used to how Beyon...</td>\n",
       "      <td>It's pretty decent.</td>\n",
       "      <td>https://www.amazon.com/gp/customer-reviews/RJN...</td>\n",
       "    </tr>\n",
       "    <tr>\n",
       "      <th>7</th>\n",
       "      <td>2019-12-13 0:00:00</td>\n",
       "      <td>4</td>\n",
       "      <td>Awesome product</td>\n",
       "      <td>Very good product tasty</td>\n",
       "      <td>Very good product tasty.</td>\n",
       "      <td>https://www.amazon.com/gp/customer-reviews/R1R...</td>\n",
       "    </tr>\n",
       "    <tr>\n",
       "      <th>8</th>\n",
       "      <td>2021-04-20 0:00:00</td>\n",
       "      <td>5</td>\n",
       "      <td>The flavor is a combination of sweet and sharp...</td>\n",
       "      <td>I like the combination of sweet and sharp. I u...</td>\n",
       "      <td>The flavor is a combination of sweet and sharp...</td>\n",
       "      <td>https://www.amazon.com/gp/customer-reviews/R32...</td>\n",
       "    </tr>\n",
       "    <tr>\n",
       "      <th>9</th>\n",
       "      <td>2021-09-18 0:00:00</td>\n",
       "      <td>3</td>\n",
       "      <td>Not sure what happened, but quality has gone d...</td>\n",
       "      <td>I used to love these buffalo mac n cheese bowl...</td>\n",
       "      <td>I bought two this time.</td>\n",
       "      <td>https://www.amazon.com/gp/customer-reviews/R1E...</td>\n",
       "    </tr>\n",
       "  </tbody>\n",
       "</table>\n",
       "</div>"
      ],
      "text/plain": [
       "                 DATE  RATING  \\\n",
       "0  2020-02-26 0:00:00       4   \n",
       "1  2020-08-14 0:00:00       5   \n",
       "2  2020-04-27 0:00:00       5   \n",
       "3  2020-02-10 0:00:00       5   \n",
       "4  2020-12-20 0:00:00       5   \n",
       "5  2021-05-07 0:00:00       5   \n",
       "6  2020-09-02 0:00:00       5   \n",
       "7  2019-12-13 0:00:00       4   \n",
       "8  2021-04-20 0:00:00       5   \n",
       "9  2021-09-18 0:00:00       3   \n",
       "\n",
       "                                        REVIEW_TITLE  \\\n",
       "0      Really sweet, more coconut than almond flavor   \n",
       "1                                    kids loved them   \n",
       "2                               Absolutely the best.   \n",
       "3                            Scrumptious at Tea Time   \n",
       "4                           DELICIOUS and ADDICCTIVE   \n",
       "5                            Was the taste authentic   \n",
       "6                          Tastes like real meat imo   \n",
       "7                                    Awesome product   \n",
       "8  The flavor is a combination of sweet and sharp...   \n",
       "9  Not sure what happened, but quality has gone d...   \n",
       "\n",
       "                                        DESCRIPTION1  \\\n",
       "0  I got this for my two oldest girls who are ath...   \n",
       "1  bought a few for my kids. I didn't taste them ...   \n",
       "2  The is the best buckwheat flour I have ever ha...   \n",
       "3  Danger: these rolled cookies are so delicious!...   \n",
       "4  I could not stop eating these. Love both the p...   \n",
       "5  I loved it! Enjoyed my coffee this morning. I ...   \n",
       "6  I was suspicious because I'm used to how Beyon...   \n",
       "7                            Very good product tasty   \n",
       "8  I like the combination of sweet and sharp. I u...   \n",
       "9  I used to love these buffalo mac n cheese bowl...   \n",
       "\n",
       "                                        DESCRIPTION2  \\\n",
       "0  They felt the flavor balance was off, that it ...   \n",
       "1  I didn't taste them but they said they were good.   \n",
       "2   The is the best buckwheat flour I have ever had.   \n",
       "3                           Scrumptious at Tea Time.   \n",
       "4  Love both the pancake and butter and salt flav...   \n",
       "5  I was hesitant it wouldn't be the right one, b...   \n",
       "6                                It's pretty decent.   \n",
       "7                           Very good product tasty.   \n",
       "8  The flavor is a combination of sweet and sharp...   \n",
       "9                            I bought two this time.   \n",
       "\n",
       "                                                LINK  \n",
       "0  https://www.amazon.com/gp/customer-reviews/RZY...  \n",
       "1  https://www.amazon.com/gp/customer-reviews/R21...  \n",
       "2  https://www.amazon.com/gp/customer-reviews/R1X...  \n",
       "3  https://www.amazon.com/gp/customer-reviews/RZU...  \n",
       "4  https://www.amazon.com/gp/customer-reviews/R10...  \n",
       "5  https://www.amazon.com/gp/customer-reviews/R29...  \n",
       "6  https://www.amazon.com/gp/customer-reviews/RJN...  \n",
       "7  https://www.amazon.com/gp/customer-reviews/R1R...  \n",
       "8  https://www.amazon.com/gp/customer-reviews/R32...  \n",
       "9  https://www.amazon.com/gp/customer-reviews/R1E...  "
      ]
     },
     "execution_count": 4,
     "metadata": {},
     "output_type": "execute_result"
    }
   ],
   "source": [
    "### Reading and analyzing the dataset\n",
    "df=pd.read_csv('/Users/roni/Desktop/Skai task/Skai - Data Science Home Assignment/amazon_products.csv')\n",
    "print(df.shape)\n",
    "df.head(10)"
   ]
  },
  {
   "cell_type": "code",
   "execution_count": 58,
   "metadata": {
    "pycharm": {
     "name": "#%%\n"
    }
   },
   "outputs": [
    {
     "name": "stdout",
     "output_type": "stream",
     "text": [
      "<class 'pandas.core.frame.DataFrame'>\n",
      "Int64Index: 9999 entries, 0 to 9999\n",
      "Data columns (total 11 columns):\n",
      " #   Column        Non-Null Count  Dtype \n",
      "---  ------        --------------  ----- \n",
      " 0   DATE          9999 non-null   object\n",
      " 1   RATING        9999 non-null   int64 \n",
      " 2   REVIEW_TITLE  9999 non-null   object\n",
      " 3   DESCRIPTION1  9999 non-null   object\n",
      " 4   DESCRIPTION2  9999 non-null   object\n",
      " 5   LINK          9999 non-null   object\n",
      " 6   rev_com       9999 non-null   object\n",
      " 7   y             9999 non-null   int64 \n",
      " 8   year          9999 non-null   int64 \n",
      " 9   month         9999 non-null   int64 \n",
      " 10  day           9999 non-null   int64 \n",
      "dtypes: int64(5), object(6)\n",
      "memory usage: 1.2+ MB\n"
     ]
    }
   ],
   "source": [
    "df.info()"
   ]
  },
  {
   "cell_type": "code",
   "execution_count": 5,
   "metadata": {
    "pycharm": {
     "name": "#%%\n"
    }
   },
   "outputs": [
    {
     "data": {
      "text/plain": [
       "\"Really sweet, more coconut than almond flavor. I got this for my two oldest girls who are athletes and can polish off a bag of granola before I'm finished putting the tear off top in the trash.. The first thing they noted is that this granola is really sweet. They limit their sugar (I know, 12 and 13 and they don't like sugar? SMH) so they both ate small dishes and then sat it aside rather than cleaning it off like they normally would. It is crunchy without being too hard, a nice crunch without hurting their teeth. No big chunks that you have to break up before you can eat it. They felt the flavor balance was off, that it was more coconut than almond and would have liked the coconut to be toned down more.. It has all natural ingredients so my athletes like that they're eating clean, but they really wish there were less sugar in it. They've been using it as a bit of a treat, but a bag has lasted almost a week, which is unheard of in this house . . .. They felt the flavor balance was off, that it was more coconut than almond and would have liked the coconut to be toned down more.\""
      ]
     },
     "execution_count": 5,
     "metadata": {},
     "output_type": "execute_result"
    }
   ],
   "source": [
    "### Creating a new feature that combines REVIEW_TITLE + DESCRIPTION1 + DESCRIPTION2\n",
    "df['rev_com'] = df['REVIEW_TITLE'] + \". \" + df['DESCRIPTION1'] + \". \" + df['DESCRIPTION2']\n",
    "df['rev_com'][0]"
   ]
  },
  {
   "cell_type": "markdown",
   "metadata": {
    "pycharm": {
     "name": "#%% md\n"
    }
   },
   "source": []
  },
  {
   "cell_type": "code",
   "execution_count": 6,
   "metadata": {
    "pycharm": {
     "name": "#%%\n"
    }
   },
   "outputs": [
    {
     "data": {
      "text/plain": [
       "(DATE            0\n",
       " RATING          0\n",
       " REVIEW_TITLE    1\n",
       " DESCRIPTION1    0\n",
       " DESCRIPTION2    0\n",
       " LINK            0\n",
       " rev_com         1\n",
       " dtype: int64,\n",
       " (10000, 7))"
      ]
     },
     "execution_count": 6,
     "metadata": {},
     "output_type": "execute_result"
    }
   ],
   "source": [
    "### Checking for missing values\n",
    "df.isna().sum(), df.shape"
   ]
  },
  {
   "cell_type": "markdown",
   "metadata": {
    "pycharm": {
     "name": "#%% md\n"
    }
   },
   "source": [
    "There is one missing value (empty Review title).\n",
    "We can extract this row from the table."
   ]
  },
  {
   "cell_type": "code",
   "execution_count": 7,
   "metadata": {
    "pycharm": {
     "name": "#%%\n"
    }
   },
   "outputs": [
    {
     "data": {
      "text/plain": [
       "(DATE            0\n",
       " RATING          0\n",
       " REVIEW_TITLE    0\n",
       " DESCRIPTION1    0\n",
       " DESCRIPTION2    0\n",
       " LINK            0\n",
       " rev_com         0\n",
       " dtype: int64,\n",
       " (9999, 7))"
      ]
     },
     "execution_count": 7,
     "metadata": {},
     "output_type": "execute_result"
    }
   ],
   "source": [
    "### Removing \"na\" values\n",
    "df.dropna(inplace=True)\n",
    "df.isna().sum() , df.shape"
   ]
  },
  {
   "cell_type": "code",
   "execution_count": 8,
   "metadata": {
    "pycharm": {
     "name": "#%%\n"
    }
   },
   "outputs": [
    {
     "name": "stdout",
     "output_type": "stream",
     "text": [
      "[]\n",
      "[]\n",
      "[]\n"
     ]
    }
   ],
   "source": [
    "### We should also check if we have features that have empty fields (empty strings)\n",
    "\n",
    "blanks_REVIEW_TITLE = []  # start with an empty list\n",
    "blanks_DESCRIPTION1 = []\n",
    "blanks_DESCRIPTION2 = []\n",
    "\n",
    "for i in range(len(df)):\n",
    "    if type(df.iloc[i,2])==str:\n",
    "        if df.iloc[i,2].isspace():\n",
    "            blanks_REVIEW_TITLE.append(i)\n",
    "\n",
    "    if type(df.iloc[i,3])==str:\n",
    "        if df.iloc[i,3].isspace():\n",
    "            blanks_DESCRIPTION1.append(i)\n",
    "\n",
    "    if type(df.iloc[i,4])==str:\n",
    "        if df.iloc[i,4].isspace():\n",
    "            blanks_DESCRIPTION2.append(i)\n",
    "\n",
    "print(blanks_REVIEW_TITLE)\n",
    "print(blanks_DESCRIPTION1)\n",
    "print(blanks_DESCRIPTION2)"
   ]
  },
  {
   "cell_type": "markdown",
   "metadata": {
    "pycharm": {
     "name": "#%% md\n"
    }
   },
   "source": [
    "Since the lists are empty, we do not have entries with empty strings"
   ]
  },
  {
   "cell_type": "markdown",
   "metadata": {
    "pycharm": {
     "name": "#%% md\n"
    }
   },
   "source": [
    "### Y Labeling"
   ]
  },
  {
   "cell_type": "code",
   "execution_count": 9,
   "metadata": {
    "pycharm": {
     "name": "#%%\n"
    }
   },
   "outputs": [
    {
     "data": {
      "text/plain": [
       "<AxesSubplot:xlabel='RATING', ylabel='count'>"
      ]
     },
     "execution_count": 9,
     "metadata": {},
     "output_type": "execute_result"
    },
    {
     "data": {
      "image/png": "[encoded data removed]",
      "text/plain": [
       "<Figure size 432x288 with 1 Axes>"
      ]
     },
     "metadata": {},
     "output_type": "display_data"
    }
   ],
   "source": [
    "##  let's explore the distribution of rating variable\n",
    "sns.set(style = \"darkgrid\" , font_scale = 1.2)\n",
    "sns.countplot(df['RATING'])"
   ]
  },
  {
   "cell_type": "markdown",
   "metadata": {
    "pycharm": {
     "name": "#%% md\n"
    }
   },
   "source": [
    "The distribution of ratings does not seem to be unified.\n",
    "We can see that the frequency of \"score 5\" is very high compared to the rest.\n",
    "\n",
    "In the case of scores: 1, 3 and 5, we can conclude that the customer was disappointed, neutral and satisfied.\n",
    "Scores 4 and 2 falls into a \"gray area\". (Can be determined by business needs).\n",
    "\n",
    "In our case, due to the unbalanced representation, we will decide to label the scores as follows:\n",
    "Score 5 as positive with the label - 3\n",
    "Scores 2, 3, 4 as neutral with the label - 2\n",
    "Score 1 as negative with the label - 1"
   ]
  },
  {
   "cell_type": "code",
   "execution_count": 59,
   "metadata": {
    "pycharm": {
     "name": "#%%\n"
    }
   },
   "outputs": [
    {
     "data": {
      "text/html": [
       "<div>\n",
       "<style scoped>\n",
       "    .dataframe tbody tr th:only-of-type {\n",
       "        vertical-align: middle;\n",
       "    }\n",
       "\n",
       "    .dataframe tbody tr th {\n",
       "        vertical-align: top;\n",
       "    }\n",
       "\n",
       "    .dataframe thead th {\n",
       "        text-align: right;\n",
       "    }\n",
       "</style>\n",
       "<table border=\"1\" class=\"dataframe\">\n",
       "  <thead>\n",
       "    <tr style=\"text-align: right;\">\n",
       "      <th></th>\n",
       "      <th>y</th>\n",
       "      <th>RATING</th>\n",
       "    </tr>\n",
       "  </thead>\n",
       "  <tbody>\n",
       "    <tr>\n",
       "      <th>0</th>\n",
       "      <td>2</td>\n",
       "      <td>4</td>\n",
       "    </tr>\n",
       "    <tr>\n",
       "      <th>1</th>\n",
       "      <td>3</td>\n",
       "      <td>5</td>\n",
       "    </tr>\n",
       "    <tr>\n",
       "      <th>2</th>\n",
       "      <td>3</td>\n",
       "      <td>5</td>\n",
       "    </tr>\n",
       "    <tr>\n",
       "      <th>3</th>\n",
       "      <td>3</td>\n",
       "      <td>5</td>\n",
       "    </tr>\n",
       "    <tr>\n",
       "      <th>4</th>\n",
       "      <td>3</td>\n",
       "      <td>5</td>\n",
       "    </tr>\n",
       "    <tr>\n",
       "      <th>...</th>\n",
       "      <td>...</td>\n",
       "      <td>...</td>\n",
       "    </tr>\n",
       "    <tr>\n",
       "      <th>9995</th>\n",
       "      <td>2</td>\n",
       "      <td>2</td>\n",
       "    </tr>\n",
       "    <tr>\n",
       "      <th>9996</th>\n",
       "      <td>3</td>\n",
       "      <td>5</td>\n",
       "    </tr>\n",
       "    <tr>\n",
       "      <th>9997</th>\n",
       "      <td>2</td>\n",
       "      <td>4</td>\n",
       "    </tr>\n",
       "    <tr>\n",
       "      <th>9998</th>\n",
       "      <td>3</td>\n",
       "      <td>5</td>\n",
       "    </tr>\n",
       "    <tr>\n",
       "      <th>9999</th>\n",
       "      <td>3</td>\n",
       "      <td>5</td>\n",
       "    </tr>\n",
       "  </tbody>\n",
       "</table>\n",
       "<p>9999 rows × 2 columns</p>\n",
       "</div>"
      ],
      "text/plain": [
       "      y  RATING\n",
       "0     2       4\n",
       "1     3       5\n",
       "2     3       5\n",
       "3     3       5\n",
       "4     3       5\n",
       "...  ..     ...\n",
       "9995  2       2\n",
       "9996  3       5\n",
       "9997  2       4\n",
       "9998  3       5\n",
       "9999  3       5\n",
       "\n",
       "[9999 rows x 2 columns]"
      ]
     },
     "execution_count": 59,
     "metadata": {},
     "output_type": "execute_result"
    }
   ],
   "source": [
    "##   1: 'negative' --  2: 'neutral', 3: 'neutral', 4: 'neutral' --- 5: 'positive'\n",
    "df['y'] = df['RATING'].map( {1: 1, 2: 2, 3: 2, 4: 2, 5: 3}).astype(int)\n",
    "df[['y','RATING']]"
   ]
  },
  {
   "cell_type": "markdown",
   "metadata": {
    "pycharm": {
     "name": "#%% md\n"
    }
   },
   "source": [
    "# Section 2: Exploratory Data Analysis\n",
    "In this section, we will perform several basic analyses in order to gain a better understanding of the data set"
   ]
  },
  {
   "cell_type": "markdown",
   "metadata": {
    "pycharm": {
     "name": "#%% md\n"
    }
   },
   "source": [
    "DATE feature: By utilizing the Date variable, we can generate business insights and interesting patterns"
   ]
  },
  {
   "cell_type": "code",
   "execution_count": 13,
   "metadata": {
    "pycharm": {
     "name": "#%%\n"
    }
   },
   "outputs": [],
   "source": [
    "df['DATE'] = pd.to_datetime(df['DATE'])\n",
    "df['year'] = df['DATE'].dt.year\n",
    "df['month'] = df['DATE'].dt.month\n",
    "df['day'] = df['DATE'].dt.day"
   ]
  },
  {
   "cell_type": "code",
   "execution_count": 14,
   "metadata": {
    "pycharm": {
     "name": "#%%\n"
    }
   },
   "outputs": [
    {
     "name": "stdout",
     "output_type": "stream",
     "text": [
      "year [2019, 2020, 2021]\n",
      "month [1, 2, 3, 4, 5, 6, 7, 8, 9, 10, 11, 12]\n",
      "day [1, 2, 3, 4, 5, 6, 7, 8, 9, 10, 11, 12, 13, 14, 15, 16, 17, 18, 19, 20, 21, 22, 23, 24, 25, 26, 27, 28, 29, 30, 31]\n"
     ]
    }
   ],
   "source": [
    "print(\"year\",sorted(set(df['year'].unique())))\n",
    "print(\"month\",sorted(set(df['month'].unique())))\n",
    "print(\"day\",sorted(set(df['day'].unique())))"
   ]
  },
  {
   "cell_type": "code",
   "execution_count": 15,
   "metadata": {
    "pycharm": {
     "name": "#%%\n"
    }
   },
   "outputs": [],
   "source": [
    "#Function for checking word length\n",
    "def cal_len(data):\n",
    "    return len(data)\n",
    "\n",
    "#Create generic plotter with Seaborn\n",
    "def plot_count_dis(count_ones,count_zeros,count_treg,title_1,title_2,title_3,subtitle):\n",
    "    fig,(ax1,ax2,ax3)=plt.subplots(1,3,figsize=(15,5))\n",
    "    sns.set_style(\"darkgrid\")\n",
    "    sns.distplot(count_zeros,ax=ax1,color='Blue')\n",
    "    ax1.set_title(title_1)\n",
    "    sns.distplot(count_ones,ax=ax2,color='Red')\n",
    "    ax2.set_title(title_2)\n",
    "    sns.distplot(count_treg,ax=ax3,color='yellow')\n",
    "    #sns.histplot(count_treg,bins = 100)\n",
    "    ax3.set_title(title_3)\n",
    "    fig.suptitle(subtitle)\n",
    "    plt.show()\n",
    "\n",
    "def plot_count_bar(count_ones,count_zeros,count_treg,title_1,title_2,title_3,subtitle):\n",
    "    fig,(ax1,ax2,ax3)=plt.subplots(1,3,figsize=(15,5))\n",
    "    sns.set_style(\"darkgrid\")\n",
    "    sns.countplot(count_ones,ax=ax1)\n",
    "    ax1.set_title(title_1)\n",
    "    sns.countplot(count_zeros,ax=ax2)\n",
    "    ax2.set_title(title_2)\n",
    "    sns.countplot(count_treg,ax=ax3)\n",
    "    #sns.histplot(count_treg,bins = 100)\n",
    "    ax3.set_title(title_3)\n",
    "    fig.suptitle(subtitle)\n",
    "    plt.show()"
   ]
  },
  {
   "cell_type": "code",
   "execution_count": 16,
   "metadata": {
    "pycharm": {
     "name": "#%%\n"
    }
   },
   "outputs": [
    {
     "data": {
      "image/png": "[encoded data removed]",
      "text/plain": [
       "<Figure size 1080x360 with 3 Axes>"
      ]
     },
     "metadata": {},
     "output_type": "display_data"
    }
   ],
   "source": [
    "plot_count_bar(df['year'],df['month'],df['day'],\"Reviews by years\",\"Reviews by months\",\"Reviews by days\",\"Reviews Word Analysis\")"
   ]
  },
  {
   "cell_type": "markdown",
   "metadata": {
    "pycharm": {
     "name": "#%% md\n"
    }
   },
   "source": [
    "As we can see, most of the responses were made in the years 2020 and 2021\n",
    "We can also notice that responses in both months and days are distributed evenly (except for month 5).\n",
    "Future research can include a semantic classification by period, events, dates and etc."
   ]
  },
  {
   "cell_type": "code",
   "execution_count": 17,
   "metadata": {
    "pycharm": {
     "name": "#%%\n"
    }
   },
   "outputs": [
    {
     "data": {
      "image/png": "[encoded data removed]",
      "text/plain": [
       "<Figure size 1080x360 with 3 Axes>"
      ]
     },
     "metadata": {},
     "output_type": "display_data"
    }
   ],
   "source": [
    "### Let's examine the distribution of words according to Review type\n",
    "count_good=df[df['y']== 3]\n",
    "count_bad=df[df['y']== 2]\n",
    "count_nat=df[df['y']== 1]\n",
    "\n",
    "count_good_words=count_good['rev_com'].str.split().apply(lambda z:cal_len(z))\n",
    "count_bad_words=count_bad['rev_com'].str.split().apply(lambda z:cal_len(z))\n",
    "count_nat_words=count_nat['rev_com'].str.split().apply(lambda z:cal_len(z))\n",
    "\n",
    "plot_count_dis(count_good_words,count_bad_words,count_nat_words,\"Positive Review Words\",\"Negative Review Words\",\"Neutral Review Words\",\"Reviews Word Analysis\")"
   ]
  },
  {
   "cell_type": "markdown",
   "metadata": {
    "pycharm": {
     "name": "#%% md\n"
    }
   },
   "source": [
    "We can see that the distributions are relatively similar - (a one-sided distribution with a positive skew)\n",
    "Therefore, we cannot necessarily conclude that there is a disciplinary pattern according to the distribution of words\n",
    "\n",
    "*Additional statistical methods may be needed to determine a pattern"
   ]
  },
  {
   "cell_type": "code",
   "execution_count": 18,
   "metadata": {
    "pycharm": {
     "name": "#%%\n"
    }
   },
   "outputs": [
    {
     "data": {
      "image/png": "[encoded data removed]",
      "text/plain": [
       "<Figure size 1080x360 with 3 Axes>"
      ]
     },
     "metadata": {},
     "output_type": "display_data"
    }
   ],
   "source": [
    "### Let's examine the distribution of punctuations according to Review type\n",
    "\n",
    "count_good_punctuations=count_good['rev_com'].apply(lambda z: len([c for c in str(z) if c in string.punctuation]))\n",
    "count_bad_punctuations=count_bad['rev_com'].apply(lambda z:len([c for c in str(z) if c in string.punctuation]))\n",
    "count_nat_punctuations=count_nat['rev_com'].apply(lambda z:len([c for c in str(z) if c in string.punctuation]))\n",
    "plot_count_dis(count_good_punctuations,count_bad_punctuations,count_nat_punctuations,\"Positive punctuation\",\"Negative punctuation\",\"Neutral punctuation\",\"Punctuation Analysis\")"
   ]
  },
  {
   "cell_type": "markdown",
   "metadata": {
    "pycharm": {
     "name": "#%% md\n"
    }
   },
   "source": [
    "Similar results can be found for punctuation distribution"
   ]
  },
  {
   "cell_type": "markdown",
   "metadata": {
    "pycharm": {
     "name": "#%% md\n"
    }
   },
   "source": [
    "### Y labeling - Imbalanced Data\n"
   ]
  },
  {
   "cell_type": "code",
   "execution_count": 19,
   "metadata": {
    "pycharm": {
     "name": "#%%\n"
    }
   },
   "outputs": [
    {
     "data": {
      "text/plain": [
       "<AxesSubplot:xlabel='y', ylabel='count'>"
      ]
     },
     "execution_count": 19,
     "metadata": {},
     "output_type": "execute_result"
    },
    {
     "data": {
      "image/png": "[encoded data removed]",
      "text/plain": [
       "<Figure size 432x288 with 1 Axes>"
      ]
     },
     "metadata": {},
     "output_type": "display_data"
    }
   ],
   "source": [
    "sns.set(style = \"darkgrid\" , font_scale = 1.2)\n",
    "sns.countplot(df['y'])"
   ]
  },
  {
   "cell_type": "markdown",
   "metadata": {
    "pycharm": {
     "name": "#%% md\n"
    }
   },
   "source": [
    "We have seen before that the data is imbalanced.\n",
    "As a consequence, we will have bias and may fail to make accurate classifications.\n",
    "\n",
    "In the case of imbalanced data. Due to the prior frequency of the classes, a classifier model can predict most of the observations as the majority class.\n",
    "Consequently, our model can achieve \"high\" accuracy, but in actuality, we will have inferior results when predicting minority classes.\n",
    "(These issues are evident in the recall and precision indices - Tried and tested)\n",
    "\n",
    "\n",
    "\n",
    "\n"
   ]
  },
  {
   "cell_type": "markdown",
   "metadata": {
    "pycharm": {
     "name": "#%% md\n"
    }
   },
   "source": [
    "In order to act, we must balance the data.\n",
    "In our case, we will perform under-sampling by a fixed number of observations like the minority class has.\n",
    "\n",
    "\n",
    "For under-sampling, we can use several methods, such as:\n",
    "Sample from the longest in the majority class (in order to keep as much information as we can).\n",
    "Yet, due to the number of words distribution (a sharp curve with a low variance) - A random sample can be taken.\n"
   ]
  },
  {
   "cell_type": "code",
   "execution_count": 20,
   "metadata": {
    "pycharm": {
     "name": "#%%\n"
    }
   },
   "outputs": [
    {
     "data": {
      "text/plain": [
       "3    1466\n",
       "2    1466\n",
       "1    1466\n",
       "Name: y, dtype: int64"
      ]
     },
     "execution_count": 20,
     "metadata": {},
     "output_type": "execute_result"
    }
   ],
   "source": [
    "df['DATE'] = df['DATE'].dt.strftime('%Y-%m-%d')\n",
    "yy = df['y']\n",
    "xx = df.loc[:, df.columns != 'y']\n",
    "# set up the random undersampling class\n",
    "rus = RandomUnderSampler(\n",
    "    sampling_strategy='auto', # samples only the majority class\n",
    "    random_state=0, # for reproducibility\n",
    "    replacement=True # if it should resample with replacement\n",
    ")\n",
    "resampled, y_resampled = rus.fit_resample(xx, yy)\n",
    "resampled['y'] = y_resampled\n",
    "resampled['y'].value_counts()"
   ]
  },
  {
   "cell_type": "code",
   "execution_count": 21,
   "metadata": {
    "pycharm": {
     "name": "#%%\n"
    }
   },
   "outputs": [
    {
     "data": {
      "text/plain": [
       "<AxesSubplot:xlabel='y', ylabel='count'>"
      ]
     },
     "execution_count": 21,
     "metadata": {},
     "output_type": "execute_result"
    },
    {
     "data": {
      "image/png": "[encoded data removed]",
      "text/plain": [
       "<Figure size 432x288 with 1 Axes>"
      ]
     },
     "metadata": {},
     "output_type": "display_data"
    }
   ],
   "source": [
    "sns.set(style = \"darkgrid\" , font_scale = 1.2)\n",
    "sns.countplot(resampled['y'])"
   ]
  },
  {
   "cell_type": "markdown",
   "metadata": {
    "pycharm": {
     "name": "#%% md\n"
    }
   },
   "source": [
    "## Section 3: Text preprocessing\n",
    "\n",
    "In our set, for each review, there are three paragraphs of text.\n",
    "RATING, DESCRIPTION1, DESCRIPTION2.\n",
    "\n",
    "\n",
    "As part of our study, we will examine the text paragraphs and their contribution to the semantic classification both together and separately.\n",
    "\n",
    "As part of this section, we will create our corpus manually - and then we will create our data set in frequency form.\n",
    "\n",
    "We will perform these processes simultaneously:\n",
    "- For RATING as a dataset\n",
    "- For DESCRIPTION1 as a dataset\n",
    "- For DESCRIPTION2 as a dataset\n",
    "- For a combination of all three together\n",
    "\n",
    "We will try to understand the best and most significant set, and then we will examine different representations and methods for semantic classification."
   ]
  },
  {
   "cell_type": "markdown",
   "metadata": {
    "pycharm": {
     "name": "#%% md\n"
    }
   },
   "source": [
    "To build our own corps, we will sort the data according to types of reviews and then perform the process for each type of review"
   ]
  },
  {
   "cell_type": "code",
   "execution_count": 22,
   "metadata": {
    "pycharm": {
     "name": "#%%\n"
    }
   },
   "outputs": [
    {
     "data": {
      "text/html": [
       "<div>\n",
       "<style scoped>\n",
       "    .dataframe tbody tr th:only-of-type {\n",
       "        vertical-align: middle;\n",
       "    }\n",
       "\n",
       "    .dataframe tbody tr th {\n",
       "        vertical-align: top;\n",
       "    }\n",
       "\n",
       "    .dataframe thead th {\n",
       "        text-align: right;\n",
       "    }\n",
       "</style>\n",
       "<table border=\"1\" class=\"dataframe\">\n",
       "  <thead>\n",
       "    <tr style=\"text-align: right;\">\n",
       "      <th></th>\n",
       "      <th>DATE</th>\n",
       "      <th>RATING</th>\n",
       "      <th>REVIEW_TITLE</th>\n",
       "      <th>DESCRIPTION1</th>\n",
       "      <th>DESCRIPTION2</th>\n",
       "      <th>LINK</th>\n",
       "      <th>rev_com</th>\n",
       "      <th>year</th>\n",
       "      <th>month</th>\n",
       "      <th>day</th>\n",
       "      <th>y</th>\n",
       "    </tr>\n",
       "  </thead>\n",
       "  <tbody>\n",
       "    <tr>\n",
       "      <th>4236</th>\n",
       "      <td>2020-08-05</td>\n",
       "      <td>5</td>\n",
       "      <td>Great first juice cleanse experience</td>\n",
       "      <td>This is my first juice cleanse, I opted to try...</td>\n",
       "      <td>The juices were really good, I was not hungry ...</td>\n",
       "      <td>https://www.amazon.com/gp/customer-reviews/R14...</td>\n",
       "      <td>Great first juice cleanse experience. This is ...</td>\n",
       "      <td>2020</td>\n",
       "      <td>8</td>\n",
       "      <td>5</td>\n",
       "      <td>3</td>\n",
       "    </tr>\n",
       "    <tr>\n",
       "      <th>4031</th>\n",
       "      <td>2019-12-15</td>\n",
       "      <td>5</td>\n",
       "      <td>Flavorful option for mouth quench</td>\n",
       "      <td>Good for one watching sugar levels.</td>\n",
       "      <td>Good for one watching sugar levels.</td>\n",
       "      <td>https://www.amazon.com/gp/customer-reviews/R3D...</td>\n",
       "      <td>Flavorful option for mouth quench. Good for on...</td>\n",
       "      <td>2019</td>\n",
       "      <td>12</td>\n",
       "      <td>15</td>\n",
       "      <td>3</td>\n",
       "    </tr>\n",
       "    <tr>\n",
       "      <th>3054</th>\n",
       "      <td>2020-08-20</td>\n",
       "      <td>5</td>\n",
       "      <td>Good Flavor</td>\n",
       "      <td>Good product!!!</td>\n",
       "      <td>Good Flavor.</td>\n",
       "      <td>https://www.amazon.com/gp/customer-reviews/R9U...</td>\n",
       "      <td>Good Flavor. Good product!!!. Good Flavor.</td>\n",
       "      <td>2020</td>\n",
       "      <td>8</td>\n",
       "      <td>20</td>\n",
       "      <td>3</td>\n",
       "    </tr>\n",
       "    <tr>\n",
       "      <th>3606</th>\n",
       "      <td>2019-12-15</td>\n",
       "      <td>5</td>\n",
       "      <td>Yum</td>\n",
       "      <td>It's good, could always be darker though.</td>\n",
       "      <td>It's good, could always be darker though.</td>\n",
       "      <td>https://www.amazon.com/gp/customer-reviews/R12...</td>\n",
       "      <td>Yum. It's good, could always be darker though....</td>\n",
       "      <td>2019</td>\n",
       "      <td>12</td>\n",
       "      <td>15</td>\n",
       "      <td>3</td>\n",
       "    </tr>\n",
       "  </tbody>\n",
       "</table>\n",
       "</div>"
      ],
      "text/plain": [
       "            DATE  RATING                          REVIEW_TITLE  \\\n",
       "4236  2020-08-05       5  Great first juice cleanse experience   \n",
       "4031  2019-12-15       5     Flavorful option for mouth quench   \n",
       "3054  2020-08-20       5                           Good Flavor   \n",
       "3606  2019-12-15       5                                   Yum   \n",
       "\n",
       "                                           DESCRIPTION1  \\\n",
       "4236  This is my first juice cleanse, I opted to try...   \n",
       "4031                Good for one watching sugar levels.   \n",
       "3054                                    Good product!!!   \n",
       "3606          It's good, could always be darker though.   \n",
       "\n",
       "                                           DESCRIPTION2  \\\n",
       "4236  The juices were really good, I was not hungry ...   \n",
       "4031                Good for one watching sugar levels.   \n",
       "3054                                       Good Flavor.   \n",
       "3606          It's good, could always be darker though.   \n",
       "\n",
       "                                                   LINK  \\\n",
       "4236  https://www.amazon.com/gp/customer-reviews/R14...   \n",
       "4031  https://www.amazon.com/gp/customer-reviews/R3D...   \n",
       "3054  https://www.amazon.com/gp/customer-reviews/R9U...   \n",
       "3606  https://www.amazon.com/gp/customer-reviews/R12...   \n",
       "\n",
       "                                                rev_com  year  month  day  y  \n",
       "4236  Great first juice cleanse experience. This is ...  2020      8    5  3  \n",
       "4031  Flavorful option for mouth quench. Good for on...  2019     12   15  3  \n",
       "3054         Good Flavor. Good product!!!. Good Flavor.  2020      8   20  3  \n",
       "3606  Yum. It's good, could always be darker though....  2019     12   15  3  "
      ]
     },
     "execution_count": 22,
     "metadata": {},
     "output_type": "execute_result"
    }
   ],
   "source": [
    "# splitting the dataset by reviews\n",
    "df_good = resampled[resampled['y']==3]\n",
    "df_bad = resampled[resampled['y']==1]\n",
    "df_nat = resampled[resampled['y']==2]\n",
    "df_good.sample(4)"
   ]
  },
  {
   "cell_type": "code",
   "execution_count": 23,
   "metadata": {
    "pycharm": {
     "name": "#%%\n"
    }
   },
   "outputs": [],
   "source": [
    "###  Create sets for Xs based on the type of review\n",
    "\n",
    "## REVIEW_TITLE\n",
    "df_good_x_title = df_good['REVIEW_TITLE']\n",
    "df_bad_x_title = df_bad['REVIEW_TITLE']\n",
    "df_nat_x_title = df_nat['REVIEW_TITLE']\n",
    "\n",
    "## DESCRIPTION1\n",
    "df_good_x_D1 = df_good['DESCRIPTION1']\n",
    "df_bad_x_D1 = df_bad['DESCRIPTION1']\n",
    "df_nat_x_D1 = df_nat['DESCRIPTION1']\n",
    "\n",
    "## DESCRIPTION2\n",
    "df_good_x_D2 = df_good['DESCRIPTION2']\n",
    "df_bad_x_D2 = df_bad['DESCRIPTION2']\n",
    "df_nat_x_D2 = df_nat['DESCRIPTION2']\n",
    "\n",
    "## REVIEW_TITLE + DESCRIPTION2 + DESCRIPTION1\n",
    "df_good_x_com = df_good['rev_com']\n",
    "df_bad_x_com = df_bad['rev_com']\n",
    "df_nat_x_com = df_nat['rev_com']\n"
   ]
  },
  {
   "cell_type": "code",
   "execution_count": 24,
   "metadata": {
    "pycharm": {
     "name": "#%%\n"
    }
   },
   "outputs": [],
   "source": [
    "### text cleaning and tokenizing functions\n",
    "\n",
    "def token_fun(tokens):\n",
    "    #tokens = tokens.split()\n",
    "    tokens= tokens.lower()\n",
    "    tokens = nltk.tokenize.word_tokenize(tokens)\n",
    "    tokens = [wordnet_lemmatizer.lemmatize(t) for t in tokens]\n",
    "    tokens = [t for t in tokens if t not in stopwords]\n",
    "    tokens = [t for t in tokens if len(t) > 3]\n",
    "    tokens= [t for t in tokens if t.isalnum()]\n",
    "    return tokens\n",
    "\n",
    "def token_fun2(tokens):\n",
    "    soup = BeautifulSoup(tokens, \"html.parser\") #remove html tags\n",
    "    tokens = soup.get_text()\n",
    "    tokens = re.sub('\\[[^]]*\\]', ' ', tokens)\n",
    "    tokens = re.sub(r'http\\S+', '', tokens) #remove urls\n",
    "    emoji_pattern = re.compile(\"[(\\U0001F600-\\U0001F92F|\\U0001F300-\\U0001F5FF|\\U0001F680-\\U0001F6FF|\\U0001F190-\\U0001F1FF|\\U00002702-\\U000027B0|\\U0001F926-\\U0001FA9F|\\u200d|\\u2640-\\u2642|\\u2600-\\u2B55|\\u23cf|\\u23e9|\\u231a|\\ufe0f)]+\", flags=re.UNICODE)\n",
    "    tokens = re.sub(emoji_pattern, '', tokens)\n",
    "    tokens= tokens.lower()\n",
    "    tokens = nltk.tokenize.word_tokenize(tokens)\n",
    "    tokens = [wordnet_lemmatizer.lemmatize(t) for t in tokens]\n",
    "    tokens = [t for t in tokens if t not in stopwords]\n",
    "    tokens = [t for t in tokens if len(t) > 3]\n",
    "    tokens= [t for t in tokens if t.isalnum()]\n",
    "    return tokens"
   ]
  },
  {
   "cell_type": "code",
   "execution_count": 25,
   "metadata": {
    "pycharm": {
     "name": "#%%\n"
    }
   },
   "outputs": [],
   "source": [
    "## creating our on corpus from different reviews lists (our vocabulary)\n",
    "# for each review -> sanding the text to the cleaning and tokenizing functions, crate lists with positive, negative, neutral words and united corpus\n",
    "\n",
    "def bigbig(df_good_x,df_bad_x,df_nat_x):\n",
    "    vocab = {}\n",
    "    positive_list = []\n",
    "    negative_list = []\n",
    "    neutral_list = []\n",
    "    i = 0\n",
    "    for rev in df_good_x:\n",
    "        tokens = token_fun(rev)\n",
    "        if len(tokens) == 0:\n",
    "            continue\n",
    "        positive_list.append(tokens)\n",
    "        for token in tokens:\n",
    "            if token not in vocab:\n",
    "                vocab[token] = i\n",
    "                i += 1\n",
    "    i = 0\n",
    "    for rev in df_bad_x:\n",
    "        tokens = token_fun(rev)\n",
    "        if len(tokens) == 0:\n",
    "            continue\n",
    "        negative_list.append(tokens)\n",
    "        for token in tokens:\n",
    "            #print(token)\n",
    "            if token not in vocab:\n",
    "                vocab[token] = i\n",
    "                i += 1\n",
    "    i = 0\n",
    "    for rev in df_nat_x:\n",
    "        tokens = token_fun(rev)\n",
    "        if len(tokens) == 0:\n",
    "            continue\n",
    "        neutral_list.append(tokens)\n",
    "        for token in tokens:\n",
    "            #print(token)\n",
    "            if token not in vocab:\n",
    "                vocab[token] = i\n",
    "                i += 1\n",
    "\n",
    "    print(len(vocab))\n",
    "    return vocab, positive_list, negative_list, neutral_list"
   ]
  },
  {
   "cell_type": "code",
   "execution_count": 26,
   "metadata": {
    "pycharm": {
     "name": "#%%\n"
    }
   },
   "outputs": [
    {
     "name": "stdout",
     "output_type": "stream",
     "text": [
      "2317\n",
      "7643\n",
      "3289\n",
      "7968\n"
     ]
    }
   ],
   "source": [
    "## REVIEW_TITLE (corpus, positive_list, negative_list, neutral_list words)\n",
    "vocab_title, positive_list_title, negative_list_title, neutral_list_title = bigbig(df_good_x_title,df_bad_x_title,df_nat_x_title)\n",
    "\n",
    "## DESCRIPTION1 (corpus, positive_list, negative_list, neutral_list words)\n",
    "vocab_df_good_x_D1, positive_list_D1, negative_list_D1, neutral_list_D1 = bigbig(df_good_x_D1,df_bad_x_D1,df_nat_x_D1)\n",
    "\n",
    "## DESCRIPTION2 (corpus, positive_list, negative_list, neutral_list words)\n",
    "vocab_df_D2, positive_list_D2, negative_list_D2, neutral_list_D2 = bigbig(df_good_x_D2,df_bad_x_D2,df_nat_x_D2)\n",
    "\n",
    "## REVIEW_TITLE + DESCRIPTION2 + DESCRIPTION1 (corpus, positive_list, negative_list, neutral_list words)\n",
    "vocab_com, positive_list_com, negative_list_com, neutral_list_com = bigbig(df_good_x_com,df_bad_x_com,df_nat_x_com)"
   ]
  },
  {
   "cell_type": "code",
   "execution_count": 27,
   "metadata": {
    "pycharm": {
     "name": "#%%\n"
    }
   },
   "outputs": [],
   "source": [
    "## Count words in our corpus (count function and frequency function) and return the number of words/frequency, as well as the label for each\n",
    "\n",
    "def tok_to_vec_sum(tokens, lable,vocab):\n",
    "    mat = np.zeros(len(vocab)+1)\n",
    "    for t in tokens:\n",
    "        i = vocab[t]\n",
    "        mat[i] += 1\n",
    "    mat[-1] = lable\n",
    "    return mat\n",
    "\n",
    "def tok_to_vec_freq(tokens, lable,vocab):\n",
    "    mat = np.zeros(len(vocab)+1)\n",
    "    for t in tokens:\n",
    "        i = vocab[t]\n",
    "        mat[i] += 1\n",
    "    mat = mat / mat.sum()\n",
    "    mat[-1] = lable\n",
    "    return mat"
   ]
  },
  {
   "cell_type": "code",
   "execution_count": 28,
   "metadata": {
    "pycharm": {
     "name": "#%%\n"
    }
   },
   "outputs": [],
   "source": [
    "## crate_dataset function - by frequency representation for each word in our data\n",
    "\n",
    "def crate_dataset(positive_list,neutral_list,negative_list,vocab):\n",
    "\n",
    "    uni = len(positive_list)+len(neutral_list)+len(negative_list)\n",
    "    uni_data = np.zeros((uni,len(vocab)+1))\n",
    "    print(uni_data.shape)\n",
    "    i = 0\n",
    "\n",
    "    for tokens in positive_list:\n",
    "        #fetures_leable = tok_to_vec_sum(tokens,1)\n",
    "        fetures_leable = tok_to_vec_freq(tokens, 3,vocab)\n",
    "        uni_data[i, :] = fetures_leable\n",
    "        i += 1\n",
    "\n",
    "    for tokens in neutral_list:\n",
    "        #fetures_leable = tok_to_vec_sum(tokens,1)\n",
    "        fetures_leable = tok_to_vec_freq(tokens, 2,vocab)\n",
    "        uni_data[i, :] = fetures_leable\n",
    "        i += 1\n",
    "\n",
    "    for tokens in negative_list:\n",
    "        #fetures_leable = tok_to_vec_sum(tokens,1)\n",
    "        fetures_leable = tok_to_vec_freq(tokens, 1,vocab)\n",
    "        uni_data[i, :] = fetures_leable\n",
    "        i += 1\n",
    "\n",
    "\n",
    "    return uni_data"
   ]
  },
  {
   "cell_type": "code",
   "execution_count": 29,
   "metadata": {
    "pycharm": {
     "name": "#%%\n"
    }
   },
   "outputs": [
    {
     "name": "stdout",
     "output_type": "stream",
     "text": [
      "(4196, 2318)\n",
      "(4378, 7644)\n",
      "(4279, 3290)\n",
      "(4358, 7969)\n"
     ]
    }
   ],
   "source": [
    "# REVIEW_TITLE data sets representend by frequancy marix of weach word\n",
    "uni_data_title = crate_dataset(positive_list_title, negative_list_title, neutral_list_title,vocab_title)\n",
    "\n",
    "# DESCRIPTION1 data sets representend by frequancy marix of weach word\n",
    "uni_data_D1 = crate_dataset(positive_list_D1, negative_list_D1, neutral_list_D1,vocab_df_good_x_D1)\n",
    "\n",
    "# DESCRIPTION2 data sets representend by frequancy marix of weach word\n",
    "uni_data_D2 = crate_dataset(positive_list_D2, negative_list_D2, neutral_list_D2,vocab_df_D2)\n",
    "\n",
    "# REVIEW_TITLE data sets representend by frequancy marix of weach word\n",
    "uni_data_com = crate_dataset(positive_list_com, negative_list_com, neutral_list_D2,vocab_com)"
   ]
  },
  {
   "cell_type": "code",
   "execution_count": 30,
   "metadata": {
    "pycharm": {
     "name": "#%%\n"
    }
   },
   "outputs": [],
   "source": [
    "### shuffle the data sets by rows\n",
    "uni_data_title = shuffle(uni_data_title)\n",
    "uni_data_D1 = shuffle(uni_data_D1)\n",
    "uni_data_D2 = shuffle(uni_data_D2)\n",
    "uni_data_com = shuffle(uni_data_com)"
   ]
  },
  {
   "cell_type": "markdown",
   "metadata": {
    "pycharm": {
     "name": "#%% md\n"
    }
   },
   "source": [
    "## Section 4: modeling and evaluation\n",
    "We will perform training using 3 models that fit the classification of several classes -\n",
    "- Naive Bayes\n",
    "- Logistic Regression\n",
    "- Bernoulli Naive Bayes\n",
    "\n",
    "We will perform classification on each of the subsets, selecting the data set and significant model that provide the best classification results (by accuracy, precision and recall)"
   ]
  },
  {
   "cell_type": "code",
   "execution_count": 35,
   "metadata": {
    "pycharm": {
     "name": "#%%\n"
    }
   },
   "outputs": [],
   "source": [
    "list_datasets = [uni_data_title,uni_data_D1,uni_data_D2,uni_data_com]\n",
    "prediction = pd.DataFrame()\n",
    "pred_x_NB = []\n",
    "pred_x_RL = []\n",
    "pred_x_Ber = []\n",
    "\n",
    "y_testlits = []\n",
    "for datalist in list_datasets:\n",
    "    X_train, X_test, y_train, y_test = train_test_split(datalist[:, :-1], datalist[:,-1], test_size=0.2, random_state=42)\n",
    "    model_NB = MultinomialNB().fit(X_train, y_train)\n",
    "    logreg = linear_model.LogisticRegression(C=1e5).fit(X_train, y_train)\n",
    "    Ber_model = BernoulliNB().fit(X_train, y_train)\n",
    "    y_testlits.append(y_test)\n",
    "    pred_x_NB.append(model_NB.predict(X_test))\n",
    "    pred_x_RL.append(logreg.predict(X_test))\n",
    "    pred_x_Ber.append(Ber_model.predict(X_test))"
   ]
  },
  {
   "cell_type": "code",
   "execution_count": 36,
   "metadata": {
    "pycharm": {
     "name": "#%%\n"
    }
   },
   "outputs": [
    {
     "name": "stdout",
     "output_type": "stream",
     "text": [
      "Dataset number 0 :               precision    recall  f1-score   support\n",
      "\n",
      "    negative       0.48      0.45      0.46       286\n",
      "     neutral       0.52      0.51      0.51       272\n",
      "    positive       0.55      0.59      0.57       282\n",
      "\n",
      "    accuracy                           0.52       840\n",
      "   macro avg       0.51      0.52      0.51       840\n",
      "weighted avg       0.51      0.52      0.51       840\n",
      "\n",
      "Dataset number 1 :               precision    recall  f1-score   support\n",
      "\n",
      "    negative       0.57      0.55      0.56       295\n",
      "     neutral       0.72      0.66      0.69       295\n",
      "    positive       0.65      0.72      0.69       286\n",
      "\n",
      "    accuracy                           0.65       876\n",
      "   macro avg       0.65      0.65      0.65       876\n",
      "weighted avg       0.65      0.65      0.65       876\n",
      "\n",
      "Dataset number 2 :               precision    recall  f1-score   support\n",
      "\n",
      "    negative       0.47      0.39      0.43       316\n",
      "     neutral       0.51      0.51      0.51       279\n",
      "    positive       0.49      0.59      0.53       261\n",
      "\n",
      "    accuracy                           0.49       856\n",
      "   macro avg       0.49      0.50      0.49       856\n",
      "weighted avg       0.49      0.49      0.49       856\n",
      "\n",
      "Dataset number 3 :               precision    recall  f1-score   support\n",
      "\n",
      "    negative       0.58      0.49      0.53       275\n",
      "     neutral       0.65      0.79      0.71       285\n",
      "    positive       0.76      0.71      0.73       312\n",
      "\n",
      "    accuracy                           0.67       872\n",
      "   macro avg       0.66      0.66      0.66       872\n",
      "weighted avg       0.67      0.67      0.66       872\n",
      "\n"
     ]
    }
   ],
   "source": [
    "for i in range(0,len(list_datasets)):\n",
    "    print(\"Dataset number\", i ,\":\",metrics.classification_report(y_testlits[i], pred_x_NB[i], target_names = [\"negative\", \"neutral\",'positive']))"
   ]
  },
  {
   "cell_type": "code",
   "execution_count": 37,
   "metadata": {
    "pycharm": {
     "name": "#%%\n"
    }
   },
   "outputs": [
    {
     "name": "stdout",
     "output_type": "stream",
     "text": [
      "Dataset number 0 :               precision    recall  f1-score   support\n",
      "\n",
      "    negative       0.46      0.43      0.45       286\n",
      "     neutral       0.45      0.44      0.44       272\n",
      "    positive       0.51      0.55      0.53       282\n",
      "\n",
      "    accuracy                           0.48       840\n",
      "   macro avg       0.47      0.48      0.47       840\n",
      "weighted avg       0.47      0.48      0.48       840\n",
      "\n",
      "Dataset number 1 :               precision    recall  f1-score   support\n",
      "\n",
      "    negative       0.57      0.61      0.59       295\n",
      "     neutral       0.68      0.64      0.66       295\n",
      "    positive       0.67      0.66      0.67       286\n",
      "\n",
      "    accuracy                           0.64       876\n",
      "   macro avg       0.64      0.64      0.64       876\n",
      "weighted avg       0.64      0.64      0.64       876\n",
      "\n",
      "Dataset number 2 :               precision    recall  f1-score   support\n",
      "\n",
      "    negative       0.51      0.46      0.49       316\n",
      "     neutral       0.47      0.44      0.46       279\n",
      "    positive       0.47      0.55      0.51       261\n",
      "\n",
      "    accuracy                           0.48       856\n",
      "   macro avg       0.48      0.48      0.48       856\n",
      "weighted avg       0.48      0.48      0.48       856\n",
      "\n",
      "Dataset number 3 :               precision    recall  f1-score   support\n",
      "\n",
      "    negative       0.68      0.62      0.65       275\n",
      "     neutral       0.72      0.77      0.75       285\n",
      "    positive       0.75      0.76      0.76       312\n",
      "\n",
      "    accuracy                           0.72       872\n",
      "   macro avg       0.72      0.72      0.72       872\n",
      "weighted avg       0.72      0.72      0.72       872\n",
      "\n"
     ]
    }
   ],
   "source": [
    "for i in range(0,len(list_datasets)):\n",
    "    print(\"Dataset number\", i ,\":\",metrics.classification_report(y_testlits[i], pred_x_RL[i], target_names = [\"negative\", \"neutral\",'positive']))"
   ]
  },
  {
   "cell_type": "code",
   "execution_count": 38,
   "metadata": {
    "pycharm": {
     "name": "#%%\n"
    }
   },
   "outputs": [
    {
     "name": "stdout",
     "output_type": "stream",
     "text": [
      "Dataset number 0 :               precision    recall  f1-score   support\n",
      "\n",
      "    negative       0.46      0.44      0.45       286\n",
      "     neutral       0.48      0.48      0.48       272\n",
      "    positive       0.52      0.55      0.53       282\n",
      "\n",
      "    accuracy                           0.49       840\n",
      "   macro avg       0.49      0.49      0.49       840\n",
      "weighted avg       0.49      0.49      0.49       840\n",
      "\n",
      "Dataset number 1 :               precision    recall  f1-score   support\n",
      "\n",
      "    negative       0.54      0.44      0.49       295\n",
      "     neutral       0.67      0.65      0.66       295\n",
      "    positive       0.59      0.71      0.65       286\n",
      "\n",
      "    accuracy                           0.60       876\n",
      "   macro avg       0.60      0.60      0.60       876\n",
      "weighted avg       0.60      0.60      0.60       876\n",
      "\n",
      "Dataset number 2 :               precision    recall  f1-score   support\n",
      "\n",
      "    negative       0.48      0.38      0.42       316\n",
      "     neutral       0.50      0.48      0.49       279\n",
      "    positive       0.44      0.58      0.50       261\n",
      "\n",
      "    accuracy                           0.47       856\n",
      "   macro avg       0.47      0.48      0.47       856\n",
      "weighted avg       0.48      0.47      0.47       856\n",
      "\n",
      "Dataset number 3 :               precision    recall  f1-score   support\n",
      "\n",
      "    negative       0.56      0.97      0.71       275\n",
      "     neutral       0.80      0.62      0.70       285\n",
      "    positive       0.88      0.50      0.64       312\n",
      "\n",
      "    accuracy                           0.69       872\n",
      "   macro avg       0.75      0.70      0.68       872\n",
      "weighted avg       0.76      0.69      0.68       872\n",
      "\n"
     ]
    }
   ],
   "source": [
    "for i in range(0,len(list_datasets)):\n",
    "    print(\"Dataset number\", i ,\":\",metrics.classification_report(y_testlits[i], pred_x_Ber[i], target_names = [\"negative\", \"neutral\",'positive']))"
   ]
  },
  {
   "cell_type": "markdown",
   "metadata": {
    "pycharm": {
     "name": "#%% md\n"
    }
   },
   "source": [
    "Initial findings -\n",
    "- We can see that the united data set produced the best results across all models.\n",
    "- Based on the analysis of the models, we can conclude that the effects of DESCRIPTION1 were most significant.\n",
    "- We can see that the best results are obtained when we use the logistic regression classification model."
   ]
  },
  {
   "cell_type": "code",
   "execution_count": 40,
   "metadata": {
    "pycharm": {
     "name": "#%%\n"
    }
   },
   "outputs": [],
   "source": [
    "def plot_confusion_matrix(cm,\n",
    "                          target_names,\n",
    "                          title='Confusion matrix',\n",
    "                          cmap=None,\n",
    "                          normalize=True):\n",
    "    accuracy = np.trace(cm) / np.sum(cm).astype('float')\n",
    "    misclass = 1 - accuracy\n",
    "\n",
    "    if cmap is None:\n",
    "        cmap = plt.get_cmap('Blues')\n",
    "\n",
    "    plt.figure(figsize=(8, 6))\n",
    "    plt.imshow(cm, interpolation='nearest', cmap=cmap)\n",
    "    plt.title(title)\n",
    "    plt.colorbar()\n",
    "\n",
    "    if target_names is not None:\n",
    "        tick_marks = np.arange(len(target_names))\n",
    "        plt.xticks(tick_marks, target_names, rotation=45)\n",
    "        plt.yticks(tick_marks, target_names)\n",
    "\n",
    "    if normalize:\n",
    "        cm = cm.astype('float') / cm.sum(axis=1)[:, np.newaxis]\n",
    "\n",
    "\n",
    "    thresh = cm.max() / 1.5 if normalize else cm.max() / 2\n",
    "    for i, j in itertools.product(range(cm.shape[0]), range(cm.shape[1])):\n",
    "        if normalize:\n",
    "            plt.text(j, i, \"{:0.4f}\".format(cm[i, j]),\n",
    "                     horizontalalignment=\"center\",\n",
    "                     color=\"white\" if cm[i, j] > thresh else \"black\")\n",
    "        else:\n",
    "            plt.text(j, i, \"{:,}\".format(cm[i, j]),\n",
    "                     horizontalalignment=\"center\",\n",
    "                     color=\"white\" if cm[i, j] > thresh else \"black\")\n",
    "\n",
    "\n",
    "    plt.tight_layout()\n",
    "    plt.ylabel('True label')\n",
    "    plt.xlabel('Predicted label\\naccuracy={:0.4f}; misclass={:0.4f}'.format(accuracy, misclass))\n",
    "    plt.show()"
   ]
  },
  {
   "cell_type": "code",
   "execution_count": 41,
   "metadata": {
    "pycharm": {
     "name": "#%%\n"
    }
   },
   "outputs": [
    {
     "data": {
      "image/png": "[encoded data removed]",
      "text/plain": [
       "<Figure size 576x432 with 2 Axes>"
      ]
     },
     "metadata": {},
     "output_type": "display_data"
    }
   ],
   "source": [
    "labels = [\"negative\", \"neutral\",'positive']\n",
    "#for i in range(0,4):\n",
    "cm = confusion_matrix(y_testlits[3], pred_x_RL[3])\n",
    "plot_confusion_matrix(cm,labels)\n",
    "#    plot_confusion_matrix(cm,labels,normalize=False)"
   ]
  },
  {
   "cell_type": "markdown",
   "metadata": {
    "pycharm": {
     "name": "#%% md\n"
    }
   },
   "source": [
    "The confusion matrix shows us that:\n",
    "The accuracy percentage is 76% for classifying reviews as positive\n",
    "The accuracy percentage is 77% for classifying reviews as neutral\n",
    "The accuracy percentage is 62% for classifying reviews as negative\n",
    "In total the average accuracy index is 72%"
   ]
  },
  {
   "cell_type": "markdown",
   "metadata": {
    "pycharm": {
     "name": "#%% md\n"
    }
   },
   "source": [
    "## Section 5:  Text representation methods\n",
    "\n",
    "Throughout this section, we will explore different methods of representing the dataset.\n",
    "This will allow us to determine the method of representation that provides the best results.\n",
    "\n",
    "- Bag of words\n",
    "- Tf - IDF\n",
    "- N-gram (N = 3)\n"
   ]
  },
  {
   "cell_type": "code",
   "execution_count": 42,
   "metadata": {
    "pycharm": {
     "name": "#%%\n"
    }
   },
   "outputs": [
    {
     "data": {
      "text/html": [
       "<div>\n",
       "<style scoped>\n",
       "    .dataframe tbody tr th:only-of-type {\n",
       "        vertical-align: middle;\n",
       "    }\n",
       "\n",
       "    .dataframe tbody tr th {\n",
       "        vertical-align: top;\n",
       "    }\n",
       "\n",
       "    .dataframe thead th {\n",
       "        text-align: right;\n",
       "    }\n",
       "</style>\n",
       "<table border=\"1\" class=\"dataframe\">\n",
       "  <thead>\n",
       "    <tr style=\"text-align: right;\">\n",
       "      <th></th>\n",
       "      <th>rev_com</th>\n",
       "      <th>y</th>\n",
       "    </tr>\n",
       "  </thead>\n",
       "  <tbody>\n",
       "    <tr>\n",
       "      <th>1637</th>\n",
       "      <td>It's a'ight, had better.. Not what I was expec...</td>\n",
       "      <td>2</td>\n",
       "    </tr>\n",
       "    <tr>\n",
       "      <th>3585</th>\n",
       "      <td>Healthy snack pack for great price. Another gi...</td>\n",
       "      <td>3</td>\n",
       "    </tr>\n",
       "    <tr>\n",
       "      <th>243</th>\n",
       "      <td>These pods did not work in my Keurig. The few ...</td>\n",
       "      <td>1</td>\n",
       "    </tr>\n",
       "    <tr>\n",
       "      <th>3333</th>\n",
       "      <td>Brought my lip color back. Very effective for ...</td>\n",
       "      <td>3</td>\n",
       "    </tr>\n",
       "    <tr>\n",
       "      <th>2522</th>\n",
       "      <td>Great juice, terrible packaging.. My husband r...</td>\n",
       "      <td>2</td>\n",
       "    </tr>\n",
       "    <tr>\n",
       "      <th>...</th>\n",
       "      <td>...</td>\n",
       "      <td>...</td>\n",
       "    </tr>\n",
       "    <tr>\n",
       "      <th>1386</th>\n",
       "      <td>Sweet and disgusting. The \"\"New Improved Formu...</td>\n",
       "      <td>1</td>\n",
       "    </tr>\n",
       "    <tr>\n",
       "      <th>121</th>\n",
       "      <td>They let this sit in high heat. It curdles whe...</td>\n",
       "      <td>1</td>\n",
       "    </tr>\n",
       "    <tr>\n",
       "      <th>2790</th>\n",
       "      <td>アレンジがきく. 美味しいです。. 甘いですが、青汁粉末を入れてちょうどいいで...</td>\n",
       "      <td>2</td>\n",
       "    </tr>\n",
       "    <tr>\n",
       "      <th>2033</th>\n",
       "      <td>I use my folgers and add some dark roast to it...</td>\n",
       "      <td>2</td>\n",
       "    </tr>\n",
       "    <tr>\n",
       "      <th>4170</th>\n",
       "      <td>A-may-zing. Probably the single best tasting w...</td>\n",
       "      <td>3</td>\n",
       "    </tr>\n",
       "  </tbody>\n",
       "</table>\n",
       "<p>4398 rows × 2 columns</p>\n",
       "</div>"
      ],
      "text/plain": [
       "                                                rev_com  y\n",
       "1637  It's a'ight, had better.. Not what I was expec...  2\n",
       "3585  Healthy snack pack for great price. Another gi...  3\n",
       "243   These pods did not work in my Keurig. The few ...  1\n",
       "3333  Brought my lip color back. Very effective for ...  3\n",
       "2522  Great juice, terrible packaging.. My husband r...  2\n",
       "...                                                 ... ..\n",
       "1386  Sweet and disgusting. The \"\"New Improved Formu...  1\n",
       "121   They let this sit in high heat. It curdles whe...  1\n",
       "2790  アレンジがきく. 美味しいです。. 甘いですが、青汁粉末を入れてちょうどいいで...  2\n",
       "2033  I use my folgers and add some dark roast to it...  2\n",
       "4170  A-may-zing. Probably the single best tasting w...  3\n",
       "\n",
       "[4398 rows x 2 columns]"
      ]
     },
     "execution_count": 42,
     "metadata": {},
     "output_type": "execute_result"
    }
   ],
   "source": [
    "# the united dataset\n",
    "resampled_test = resampled[['rev_com','y']]\n",
    "resampled_test = shuffle(resampled_test)\n",
    "resampled_test"
   ]
  },
  {
   "cell_type": "code",
   "execution_count": 43,
   "metadata": {
    "pycharm": {
     "name": "#%%\n"
    }
   },
   "outputs": [
    {
     "data": {
      "text/plain": [
       "3    1466\n",
       "2    1466\n",
       "1    1466\n",
       "Name: y, dtype: int64"
      ]
     },
     "execution_count": 43,
     "metadata": {},
     "output_type": "execute_result"
    }
   ],
   "source": [
    "resampled_test.y.value_counts()"
   ]
  },
  {
   "cell_type": "code",
   "execution_count": null,
   "metadata": {
    "pycharm": {
     "name": "#%%\n"
    }
   },
   "outputs": [],
   "source": []
  },
  {
   "cell_type": "code",
   "execution_count": 44,
   "metadata": {
    "pycharm": {
     "name": "#%%\n"
    }
   },
   "outputs": [],
   "source": [
    "### text cleaning and tokenizing functions\n",
    "\n",
    "def token_fun3(tokens):\n",
    "    #tokens = tokens.split()\n",
    "    tokens= tokens.lower()\n",
    "    #tokens = nltk.tokenize.word_tokenize(tokens)\n",
    "    tokens = [wordnet_lemmatizer.lemmatize(t) for t in tokens]\n",
    "    tokens = [t for t in tokens if t not in stopwords]\n",
    "    tokens = [t for t in tokens if len(t) > 3]\n",
    "    tokens= [t for t in tokens if t.isalnum()]\n",
    "    return tokens\n",
    "\n",
    "#Removing the html strips\n",
    "def strip_html(text):\n",
    "    soup = BeautifulSoup(text, \"html.parser\")\n",
    "    return soup.get_text()\n",
    "\n",
    "#Removing the square brackets\n",
    "def remove_between_square_brackets(text):\n",
    "    return re.sub('\\[[^]]*\\]', '', text)\n",
    "\n",
    "#Removing the noisy text\n",
    "def denoise_text(text):\n",
    "    text = strip_html(text)\n",
    "    text = remove_between_square_brackets(text)\n",
    "    return text\n",
    "\n",
    "def remove_special_characters(text, remove_digits=True):\n",
    "    pattern=r'[^a-zA-z0-9\\s]'\n",
    "    text=re.sub(pattern,'',text)\n",
    "    return text\n",
    "\n",
    "\n",
    "#Stemming the text\n",
    "def simple_lemmatize(text):\n",
    "    text = [wordnet_lemmatizer.lemmatize(text)]\n",
    "    return text\n",
    "\n",
    "\n",
    "def remove_stopwords(text, is_lower_case=False):\n",
    "    tokens = tokenizer.tokenize(text)\n",
    "    tokens = [token.strip() for token in tokens]\n",
    "    if is_lower_case:\n",
    "        filtered_tokens = [token for token in tokens if token not in stopwords]\n",
    "    else:\n",
    "        filtered_tokens = [token for token in tokens if token.lower() not in stopwords]\n",
    "    filtered_text = ' '.join(filtered_tokens)\n",
    "    return filtered_text"
   ]
  },
  {
   "cell_type": "code",
   "execution_count": 45,
   "metadata": {
    "pycharm": {
     "name": "#%%\n"
    }
   },
   "outputs": [
    {
     "data": {
      "text/plain": [
       "(4398, 2)"
      ]
     },
     "execution_count": 45,
     "metadata": {},
     "output_type": "execute_result"
    }
   ],
   "source": [
    "###  cleaning and tokenizing the text\n",
    "resampled_test['rev_com'] = resampled_test['rev_com'].apply(strip_html)\n",
    "resampled_test['rev_com'] = resampled_test['rev_com'].apply(remove_special_characters)\n",
    "resampled_test['rev_com'] = resampled_test['rev_com'].apply(denoise_text)\n",
    "resampled_test['rev_com']=resampled_test['rev_com'].apply(remove_between_square_brackets)\n",
    "resampled_test['rev_com']=resampled_test['rev_com'].apply(simple_lemmatize)\n",
    "resampled_test['rev_com']=resampled_test['rev_com'].apply(remove_stopwords)\n",
    "resampled_test.shape"
   ]
  },
  {
   "cell_type": "code",
   "execution_count": 62,
   "metadata": {
    "pycharm": {
     "name": "#%%\n"
    }
   },
   "outputs": [
    {
     "data": {
      "text/plain": [
       "1275    [ ' got 3 bottles paid 6 bottles got 3 got 3 b...\n",
       "4141    [ ' Makes coffee taste amazing absolutely ador...\n",
       "3168    [ ' Great cup coffee always enjoyed cup McDona...\n",
       "2905    [ ' Basically flavor Super weak flavor Doesnt ...\n",
       "4325    [ ' OMG LOVE LOVE LOVE COFFEE BEST coffee ever...\n",
       "                              ...                        \n",
       "1386    [ ' Sweet disgusting New Improved Formula impr...\n",
       "121     [ ' let sit high heat curdles made Ive using y...\n",
       "2790                                              [ ' ' ]\n",
       "2033    [ ' use folgers add dark roast itgreat coffee ...\n",
       "4170    [ ' Amayzing Probably single best tasting wate...\n",
       "Name: rev_com, Length: 1398, dtype: object"
      ]
     },
     "execution_count": 62,
     "metadata": {},
     "output_type": "execute_result"
    }
   ],
   "source": [
    "# dataset splits\n",
    "norm_train_reviews=resampled_test.rev_com[:3000]\n",
    "norm_test_reviews=resampled_test.rev_com[3000:]\n",
    "train_y=resampled_test.y[:3000]\n",
    "test_y=resampled_test.y[3000:]\n",
    "train_y = train_y.to_frame()\n",
    "test_y = test_y.to_frame()\n",
    "norm_test_reviews"
   ]
  },
  {
   "cell_type": "code",
   "execution_count": 63,
   "metadata": {
    "pycharm": {
     "name": "#%%\n"
    }
   },
   "outputs": [
    {
     "name": "stdout",
     "output_type": "stream",
     "text": [
      "BOW_cv_train: (3000, 4442)\n",
      "BOW_cv_test: (1398, 4442)\n"
     ]
    }
   ],
   "source": [
    "### Bag of words\n",
    "# Count vectorizer for bag of words\n",
    "cv=CountVectorizer(min_df=0,max_df=1,binary=False)\n",
    "#transformed train reviews\n",
    "cv_train_reviews=cv.fit_transform(norm_train_reviews)\n",
    "#transformed test reviews\n",
    "cv_test_reviews=cv.transform(norm_test_reviews)\n",
    "\n",
    "print('BOW_cv_train:',cv_train_reviews.shape)\n",
    "print('BOW_cv_test:',cv_test_reviews.shape)"
   ]
  },
  {
   "cell_type": "code",
   "execution_count": 64,
   "metadata": {
    "pycharm": {
     "name": "#%%\n"
    }
   },
   "outputs": [
    {
     "name": "stdout",
     "output_type": "stream",
     "text": [
      "Tfidf_train: (3000, 4442)\n",
      "Tfidf_test: (1398, 4442)\n"
     ]
    }
   ],
   "source": [
    "### Tfidf vectorizer\n",
    "tv=TfidfVectorizer(min_df=0,max_df=1,use_idf=True)\n",
    "#transformed train reviews\n",
    "tv_train_reviews=tv.fit_transform(norm_train_reviews)\n",
    "#transformed test reviews\n",
    "tv_test_reviews=tv.transform(norm_test_reviews)\n",
    "print('Tfidf_train:',tv_train_reviews.shape)\n",
    "print('Tfidf_test:',tv_test_reviews.shape)"
   ]
  },
  {
   "cell_type": "code",
   "execution_count": 74,
   "metadata": {
    "pycharm": {
     "name": "#%%\n"
    }
   },
   "outputs": [
    {
     "name": "stdout",
     "output_type": "stream",
     "text": [
      "Ngram_train: (3000, 132054)\n",
      "Ngram_test: (1398, 132054)\n"
     ]
    }
   ],
   "source": [
    "count_vect = CountVectorizer(ngram_range=(1,3))\n",
    "Ngram_train_reviews = count_vect.fit_transform(norm_train_reviews)\n",
    "Ngram_test_reviews=count_vect.transform(norm_test_reviews)\n",
    "print('Ngram_train:',Ngram_train_reviews.shape)\n",
    "print('Ngram_test:',Ngram_test_reviews.shape)"
   ]
  },
  {
   "cell_type": "code",
   "execution_count": 67,
   "metadata": {
    "pycharm": {
     "name": "#%%\n"
    }
   },
   "outputs": [],
   "source": [
    "## Modeling for tf idf - using TfidfVectorizer\n",
    "model_NB_model = MultinomialNB().fit(tv_train_reviews, train_y)\n",
    "logreg = linear_model.LogisticRegression(C=1e5).fit(tv_train_reviews, train_y)\n",
    "Ber_model = BernoulliNB().fit(tv_train_reviews, train_y)\n",
    "\n",
    "pred_x_NBqqq = model_NB_model.predict(tv_test_reviews)\n",
    "pred_x_RLqqq = logreg.predict(tv_test_reviews)\n",
    "pred_x_Berqqq = Ber_model.predict(tv_test_reviews)"
   ]
  },
  {
   "cell_type": "code",
   "execution_count": 68,
   "metadata": {
    "pycharm": {
     "name": "#%%\n"
    }
   },
   "outputs": [
    {
     "name": "stdout",
     "output_type": "stream",
     "text": [
      "Dataset NB:               precision    recall  f1-score   support\n",
      "\n",
      "    negative       0.34      0.73      0.47       448\n",
      "     neutral       0.60      0.31      0.41       477\n",
      "    positive       0.53      0.21      0.30       473\n",
      "\n",
      "    accuracy                           0.41      1398\n",
      "   macro avg       0.49      0.42      0.39      1398\n",
      "weighted avg       0.49      0.41      0.39      1398\n",
      "\n",
      "Dataset RL:               precision    recall  f1-score   support\n",
      "\n",
      "    negative       0.49      0.22      0.31       448\n",
      "     neutral       0.40      0.84      0.54       477\n",
      "    positive       0.53      0.21      0.30       473\n",
      "\n",
      "    accuracy                           0.43      1398\n",
      "   macro avg       0.47      0.43      0.38      1398\n",
      "weighted avg       0.47      0.43      0.39      1398\n",
      "\n",
      "Dataset BerL:               precision    recall  f1-score   support\n",
      "\n",
      "    negative       0.49      0.18      0.26       448\n",
      "     neutral       0.39      0.86      0.54       477\n",
      "    positive       0.52      0.21      0.30       473\n",
      "\n",
      "    accuracy                           0.42      1398\n",
      "   macro avg       0.47      0.42      0.37      1398\n",
      "weighted avg       0.47      0.42      0.37      1398\n",
      "\n"
     ]
    }
   ],
   "source": [
    "print(\"Dataset NB:\",metrics.classification_report(test_y, pred_x_NBqqq, target_names = [\"negative\", \"neutral\",'positive']))\n",
    "print(\"Dataset RL:\",metrics.classification_report(test_y, pred_x_RLqqq, target_names = [\"negative\", \"neutral\",'positive']))\n",
    "print(\"Dataset BerL:\",metrics.classification_report(test_y, pred_x_Berqqq, target_names = [\"negative\", \"neutral\",'positive']))"
   ]
  },
  {
   "cell_type": "code",
   "execution_count": 69,
   "metadata": {
    "pycharm": {
     "name": "#%%\n"
    }
   },
   "outputs": [],
   "source": [
    "## Modeling for bag of words\n",
    "model_NB_model = MultinomialNB().fit(cv_train_reviews, train_y)\n",
    "logreg = linear_model.LogisticRegression(C=1e5).fit(cv_train_reviews, train_y)\n",
    "Ber_model = BernoulliNB().fit(cv_train_reviews, train_y)\n",
    "\n",
    "pred_x_NBqqq_c = model_NB_model.predict(cv_test_reviews)\n",
    "pred_x_RLqqq_c = logreg.predict(cv_test_reviews)\n",
    "pred_x_Berqqq_c = Ber_model.predict(cv_test_reviews)"
   ]
  },
  {
   "cell_type": "code",
   "execution_count": 70,
   "metadata": {
    "pycharm": {
     "name": "#%%\n"
    }
   },
   "outputs": [
    {
     "name": "stdout",
     "output_type": "stream",
     "text": [
      "Dataset NB:               precision    recall  f1-score   support\n",
      "\n",
      "    negative       0.34      0.72      0.46       448\n",
      "     neutral       0.59      0.32      0.41       477\n",
      "    positive       0.52      0.21      0.30       473\n",
      "\n",
      "    accuracy                           0.41      1398\n",
      "   macro avg       0.48      0.42      0.39      1398\n",
      "weighted avg       0.48      0.41      0.39      1398\n",
      "\n",
      "Dataset RL:               precision    recall  f1-score   support\n",
      "\n",
      "    negative       0.49      0.22      0.30       448\n",
      "     neutral       0.40      0.84      0.54       477\n",
      "    positive       0.53      0.22      0.31       473\n",
      "\n",
      "    accuracy                           0.43      1398\n",
      "   macro avg       0.47      0.43      0.39      1398\n",
      "weighted avg       0.47      0.43      0.39      1398\n",
      "\n",
      "Dataset BerL:               precision    recall  f1-score   support\n",
      "\n",
      "    negative       0.49      0.18      0.26       448\n",
      "     neutral       0.39      0.86      0.54       477\n",
      "    positive       0.52      0.21      0.30       473\n",
      "\n",
      "    accuracy                           0.42      1398\n",
      "   macro avg       0.47      0.42      0.37      1398\n",
      "weighted avg       0.47      0.42      0.37      1398\n",
      "\n"
     ]
    }
   ],
   "source": [
    "print(\"Dataset NB:\",metrics.classification_report(test_y, pred_x_NBqqq_c, target_names = [\"negative\", \"neutral\",'positive']))\n",
    "print(\"Dataset RL:\",metrics.classification_report(test_y, pred_x_RLqqq_c, target_names = [\"negative\", \"neutral\",'positive']))\n",
    "print(\"Dataset BerL:\",metrics.classification_report(test_y, pred_x_Berqqq_c, target_names = [\"negative\", \"neutral\",'positive']))"
   ]
  },
  {
   "cell_type": "code",
   "execution_count": 75,
   "metadata": {
    "pycharm": {
     "name": "#%%\n"
    }
   },
   "outputs": [],
   "source": [
    "## modeling for  N-gram\n",
    "model_NB_model = MultinomialNB().fit(Ngram_train_reviews, train_y)\n",
    "logreg = linear_model.LogisticRegression(C=1e5).fit(Ngram_train_reviews, train_y)\n",
    "Ber_model = BernoulliNB().fit(Ngram_train_reviews, train_y)\n",
    "\n",
    "pred_x_NBqqq_bi = model_NB_model.predict(Ngram_test_reviews)\n",
    "pred_x_RLqqq_bi = logreg.predict(Ngram_test_reviews)\n",
    "pred_x_Berqqq_bi = Ber_model.predict(Ngram_test_reviews)"
   ]
  },
  {
   "cell_type": "code",
   "execution_count": 76,
   "metadata": {
    "pycharm": {
     "name": "#%%\n"
    }
   },
   "outputs": [
    {
     "name": "stdout",
     "output_type": "stream",
     "text": [
      "Dataset NB:               precision    recall  f1-score   support\n",
      "\n",
      "    negative       0.82      0.73      0.77       448\n",
      "     neutral       0.62      0.77      0.69       477\n",
      "    positive       0.84      0.73      0.78       473\n",
      "\n",
      "    accuracy                           0.74      1398\n",
      "   macro avg       0.76      0.74      0.75      1398\n",
      "weighted avg       0.76      0.74      0.75      1398\n",
      "\n",
      "Dataset RL:               precision    recall  f1-score   support\n",
      "\n",
      "    negative       0.77      0.75      0.76       448\n",
      "     neutral       0.63      0.69      0.66       477\n",
      "    positive       0.81      0.76      0.79       473\n",
      "\n",
      "    accuracy                           0.73      1398\n",
      "   macro avg       0.74      0.73      0.74      1398\n",
      "weighted avg       0.74      0.73      0.74      1398\n",
      "\n",
      "Dataset BerL:               precision    recall  f1-score   support\n",
      "\n",
      "    negative       0.71      0.90      0.79       448\n",
      "     neutral       0.98      0.39      0.56       477\n",
      "    positive       0.70      0.94      0.80       473\n",
      "\n",
      "    accuracy                           0.74      1398\n",
      "   macro avg       0.80      0.74      0.72      1398\n",
      "weighted avg       0.80      0.74      0.72      1398\n",
      "\n"
     ]
    }
   ],
   "source": [
    "print(\"Dataset NB:\",metrics.classification_report(test_y, pred_x_NBqqq_bi, target_names = [\"negative\", \"neutral\",'positive']))\n",
    "print(\"Dataset RL:\",metrics.classification_report(test_y, pred_x_RLqqq_bi, target_names = [\"negative\", \"neutral\",'positive']))\n",
    "print(\"Dataset BerL:\",metrics.classification_report(test_y, pred_x_Berqqq_bi, target_names = [\"negative\", \"neutral\",'positive']))"
   ]
  },
  {
   "cell_type": "code",
   "execution_count": 73,
   "metadata": {
    "pycharm": {
     "name": "#%%\n"
    }
   },
   "outputs": [
    {
     "data": {
      "image/png": "[encoded data removed]",
      "text/plain": [
       "<Figure size 576x432 with 2 Axes>"
      ]
     },
     "metadata": {},
     "output_type": "display_data"
    }
   ],
   "source": [
    "cm = confusion_matrix(test_y, pred_x_NBqqq_bi)\n",
    "plot_confusion_matrix(cm,labels)"
   ]
  },
  {
   "cell_type": "markdown",
   "metadata": {
    "pycharm": {
     "name": "#%% md\n"
    }
   },
   "source": [
    "The confusion matrix shows us that:\n",
    "The accuracy percentage is 72% for classifying reviews as positive\n",
    "The accuracy percentage is 77% for classifying reviews as neutral\n",
    "The accuracy percentage is 72% for classifying reviews as negative\n",
    "In total, the average accuracy index is 74%"
   ]
  },
  {
   "cell_type": "markdown",
   "metadata": {
    "pycharm": {
     "name": "#%% md\n"
    }
   },
   "source": [
    "In terms of classification through Bag of words representation, we can see that the results are fairly poor. In fact, the best model is only 43% accurate.\n",
    "Similar, the results for Tf - IDF representation (using the TfidfVectorizer method) are also very poor (43% accuracy).\n",
    "\n",
    "By contrast, a representation based on N-grams (with N = 3) yields relatively good results (using the Nave Base model).\n",
    "Both in terms of accuracy and minority class indexes (\"recall and precision\")."
   ]
  },
  {
   "cell_type": "markdown",
   "metadata": {
    "pycharm": {
     "name": "#%% md\n"
    }
   },
   "source": [
    "## Section 6 - Further discussion and explanations\n",
    "Methods I have used for this task are considered to be relatively simple methods that provide good results most of the time.\n",
    "However, these methods have several significant disadvantages.\n",
    "\n",
    "By using these approaches, we break the words down and treat each individually. By doing so, we actually lose significant semantic information.\n",
    "It is possible to lose the connections between words that have more complex meanings.\n",
    "\n",
    "We can use word embeddings to preserve semantic links between words and representation of those connections.\n",
    "Using word embeddings, we use neural network weights trained on many words in context.\n",
    "Each word receives a vector representation that represents a position in a multidimensional space.\n",
    "In this way, we preserve semantic aspects and logical meaning and identify patterns (which can't be done by simple methods).\n",
    "\n",
    "It is the basis for many models based on networks and deep learning, which are called Language Models.\n",
    "The main approaches are:\n",
    "- The CNN model enables the representation of multiple words in a sequence in fixed window size.\n",
    "- The RNN, LSTM, and GRU models treat texts as a time sequence and preserve information based on memory.\n",
    "- A new model called ELMO Embeddings from language models - This enables contextual embedding (the embedding of the word and its context)\n",
    "\n",
    "With these models, the meaning that is not perceived at the level of a single word can be preserved and expressed, and therefore, these methods may provide us with even better results.\n",
    "\n",
    "Our classifier model is trained based on a corpus of words. In this corpus, we have used the context and lexical words that relate to the Amazon website (a shopping website). The style and context of shopping websites and social networks differ significantly, so I assume that our model will produce a very low accuracy rate for social networks text. I assume that there will be no representation for many words in our corpus."
   ]
  },
  {
   "cell_type": "code",
   "execution_count": null,
   "metadata": {
    "pycharm": {
     "name": "#%%\n"
    }
   },
   "outputs": [],
   "source": []
  }
 ],
 "metadata": {
  "kernelspec": {
   "display_name": "Python 3",
   "language": "python",
   "name": "python3"
  },
  "language_info": {
   "codemirror_mode": {
    "name": "ipython",
    "version": 3
   },
   "file_extension": ".py",
   "mimetype": "text/x-python",
   "name": "python",
   "nbconvert_exporter": "python",
   "pygments_lexer": "ipython3",
   "version": "3.8.5"
  }
 },
 "nbformat": 4,
 "nbformat_minor": 1
}